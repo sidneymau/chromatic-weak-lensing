{
 "cells": [
  {
   "cell_type": "code",
   "execution_count": null,
   "id": "19b261e8-21e1-4da4-8bfc-2ab74231343f",
   "metadata": {},
   "outputs": [],
   "source": [
    "import matplotlib.pyplot as plt\n",
    "import numpy as np"
   ]
  },
  {
   "cell_type": "code",
   "execution_count": null,
   "id": "44ff9c63-21bb-4ad9-854e-d270bf985bb0",
   "metadata": {},
   "outputs": [],
   "source": [
    "from chromatic_weak_lensing import StellarParams\n",
    "from chromatic_weak_lensing.blackbody import Blackbody\n",
    "from chromatic_weak_lensing.fsps import FSPS\n",
    "from chromatic_weak_lensing.btsettl import BTSettl\n",
    "from chromatic_weak_lensing.phoenix import Phoenix"
   ]
  },
  {
   "cell_type": "code",
   "execution_count": null,
   "id": "49495e0d-6862-48d6-af7d-4bf4a0e846dc",
   "metadata": {},
   "outputs": [],
   "source": [
    "blackbody = Blackbody()\n",
    "fsps = FSPS()\n",
    "btsettl = BTSettl()\n",
    "phoenix = Phoenix()"
   ]
  },
  {
   "cell_type": "code",
   "execution_count": null,
   "id": "f8f97a4c-4fd2-48e7-8a91-d79b0baf20e1",
   "metadata": {},
   "outputs": [],
   "source": [
    "fig, axs = plt.subplots(\n",
    "    1, 4,\n",
    "    sharex=True,\n",
    "    sharey=True,\n",
    "    constrained_layout=True,\n",
    ")\n",
    "\n",
    "axs[0].set_xlabel(\"$\\lambda$ [$nm$]\")\n",
    "axs[0].set_ylabel(\"$f_{photons}$ [$photons/nm/cm^2/s$]\")\n",
    "axs[0].set_title(\"Blackbody\")\n",
    "\n",
    "axs[1].set_xlabel(\"$\\lambda$ [$nm$]\")\n",
    "# axs[1].set_ylabel(\"$f_{photons}$ [$photons/nm/cm^2/s$]\")\n",
    "axs[1].set_title(\"FSPS\")\n",
    "\n",
    "axs[2].set_xlabel(\"$\\lambda$ [$nm$]\")\n",
    "# axs[2].set_ylabel(\"$f_{photons}$ [$photons/nm/cm^2/s$]\")\n",
    "axs[2].set_title(\"BT-Settl\")\n",
    "\n",
    "axs[3].set_xlabel(\"$\\lambda$ [$nm$]\")\n",
    "# axs[3].set_ylabel(\"$f_{photons}$ [$photons/nm/cm^2/s$]\")\n",
    "axs[3].set_title(\"Phoenix\")\n",
    "\n",
    "fig.suptitle(\"Stellar Spectra\")\n",
    "\n",
    "\n",
    "n_spec = 10\n",
    "masses = np.linspace(\n",
    "    0.2,\n",
    "    2.,\n",
    "    n_spec,\n",
    ")\n",
    "\n",
    "wl = np.linspace(300, 1200, 1000)\n",
    "\n",
    "mu0 = 16\n",
    "for mass in masses:\n",
    "    _radius = np.power(mass, 0.7)\n",
    "    _luminosity = np.power(mass, 3.5)\n",
    "    _temperature = np.power(np.power(mass, 2.1) / (4 * np.pi * 7.169e-17), 1/4)\n",
    "    _logg = np.log10(1/4.13E10 * mass / _luminosity) + 4 * np.log10(_temperature)  # FSPS\n",
    "    _z = 0.0122\n",
    "    \n",
    "    sparams = StellarParams(\n",
    "        mass=mass,\n",
    "        logg=_logg,\n",
    "        T=_temperature,\n",
    "        l=_luminosity,\n",
    "        distance_modulus=mu0,\n",
    "        z=_z\n",
    "    )\n",
    "\n",
    "    blackbody_params = blackbody.get_params(sparams)\n",
    "    blackbody_spec = blackbody.get_spectrum(*blackbody_params)\n",
    "\n",
    "    fsps_params = fsps.get_params(sparams)\n",
    "    fsps_spec = fsps.get_spectrum(*fsps_params)\n",
    "\n",
    "    btsettl_params = btsettl.get_params(sparams)\n",
    "    btsettl_spec = btsettl.get_spectrum(*btsettl_params)\n",
    "\n",
    "    phoenix_params = phoenix.get_params(sparams)\n",
    "    phoenix_spec = phoenix.get_spectrum(*phoenix_params)\n",
    "    \n",
    "    axs[0].plot(wl, blackbody_spec(wl))\n",
    "    axs[1].plot(wl, fsps_spec(wl))\n",
    "    axs[2].plot(wl, btsettl_spec(wl))\n",
    "    axs[3].plot(wl, phoenix_spec(wl))\n",
    "\n",
    "plt.show()"
   ]
  },
  {
   "cell_type": "code",
   "execution_count": null,
   "id": "0947445e-dd82-42ba-bb40-5e75c852d228",
   "metadata": {},
   "outputs": [],
   "source": []
  }
 ],
 "metadata": {
  "kernelspec": {
   "display_name": "Python 3 (ipykernel)",
   "language": "python",
   "name": "python3"
  },
  "language_info": {
   "codemirror_mode": {
    "name": "ipython",
    "version": 3
   },
   "file_extension": ".py",
   "mimetype": "text/x-python",
   "name": "python",
   "nbconvert_exporter": "python",
   "pygments_lexer": "ipython3",
   "version": "3.11.9"
  }
 },
 "nbformat": 4,
 "nbformat_minor": 5
}
