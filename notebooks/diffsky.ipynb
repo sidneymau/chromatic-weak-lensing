{
 "cells": [
  {
   "cell_type": "code",
   "execution_count": null,
   "id": "19b261e8-21e1-4da4-8bfc-2ab74231343f",
   "metadata": {},
   "outputs": [],
   "source": [
    "import galsim\n",
    "import h5py\n",
    "import matplotlib as mpl\n",
    "import matplotlib.pyplot as plt\n",
    "import numpy as np"
   ]
  },
  {
   "cell_type": "code",
   "execution_count": null,
   "id": "44ff9c63-21bb-4ad9-854e-d270bf985bb0",
   "metadata": {},
   "outputs": [],
   "source": [
    "from chromatic_weak_lensing.diffsky import Diffsky, RomanRubin"
   ]
  },
  {
   "cell_type": "code",
   "execution_count": null,
   "id": "be0c4231-6e1c-48cc-abc4-086e08fb8585",
   "metadata": {},
   "outputs": [],
   "source": [
    "# ! curl https://portal.nersc.gov/project/hacc/aphearin/lsstdesc_diffsky_data/roman_rubin_2023_z_0_1_cutout_9043.testdata.hdf5 > diffsky.testdata.hdf5"
   ]
  },
  {
   "cell_type": "code",
   "execution_count": null,
   "id": "9f99bd76-cdb2-41b1-ba19-4c02fdd02a50",
   "metadata": {},
   "outputs": [],
   "source": [
    "# input data is structured like a dictionary (columnar access)\n",
    "\n",
    "data = {}\n",
    "\n",
    "fn = \"diffsky.testdata.hdf5\"\n",
    "with h5py.File(fn) as hf:\n",
    "    for key in hf.keys():\n",
    "        if key != \"metaData\":\n",
    "            snap = hf[key]\n",
    "            for field in snap.keys():\n",
    "                if field not in data:\n",
    "                    data[field] = np.array([])\n",
    "                data[field] = np.append(data[field], snap[field][:])\n",
    "        else:\n",
    "            for k, v in hf[key].items():\n",
    "                print(f\"{k}: {v[()]}\")"
   ]
  },
  {
   "cell_type": "code",
   "execution_count": null,
   "id": "432c5330-35f3-456e-ac11-0e8094a6b3c7",
   "metadata": {},
   "outputs": [],
   "source": [
    "# A hdf5 group will also work\n",
    "\n",
    "# hf = h5py.File(fn)\n",
    "# data = hf[\"247\"]"
   ]
  },
  {
   "cell_type": "code",
   "execution_count": null,
   "id": "72d890fd-833f-4c16-9a39-e75ca57c359c",
   "metadata": {},
   "outputs": [],
   "source": [
    "# A pyarrow data source can also be used\n",
    "\n",
    "# import pyarrow.dataset as ds\n",
    "\n",
    "# dataset = ds.dataset(\"roman_rubin_2023_v1.1.3_parquet\")\n",
    "# data = dataset.head(100, columns=roman_rubin.columns, filter=(ds.field(\"LSST_obs_i\") < 26))"
   ]
  },
  {
   "cell_type": "code",
   "execution_count": null,
   "id": "49495e0d-6862-48d6-af7d-4bf4a0e846dc",
   "metadata": {},
   "outputs": [],
   "source": [
    "roman_rubin = RomanRubin(data)\n",
    "diffsky = Diffsky()"
   ]
  },
  {
   "cell_type": "code",
   "execution_count": null,
   "id": "241fec81-bcd2-46a7-82fa-40a83eea48fe",
   "metadata": {},
   "outputs": [],
   "source": [
    "fig, axs = plt.subplots(1, 1)\n",
    "\n",
    "axs.set_title(\"Diffsky Galaxy Morphology\")\n",
    "\n",
    "i = 0\n",
    "\n",
    "params = roman_rubin.get_morphology_params(i)\n",
    "morph = diffsky.get_morphology(*params)\n",
    "\n",
    "psf = galsim.Gaussian(fwhm=0.7)\n",
    "observed = galsim.Convolve([psf, morph])\n",
    "image = observed.drawImage(scale=0.2)\n",
    "\n",
    "axs.imshow(image.array, origin=\"lower\")\n",
    "\n",
    "plt.show()"
   ]
  },
  {
   "cell_type": "code",
   "execution_count": null,
   "id": "759ef85e-a054-4978-9c96-2a10c31c9411",
   "metadata": {},
   "outputs": [],
   "source": [
    "fig, axs = plt.subplots(1, 1)\n",
    "\n",
    "axs.set_yscale(\"log\")\n",
    "axs.set_xlabel(\"$\\lambda$ [$nm$]\")\n",
    "axs.set_ylabel(\"$f_{photons}$ [$photons/nm/cm^2/s$]\")\n",
    "axs.set_title(\"Diffsky Galactic Spectra\")\n",
    "\n",
    "wl = np.linspace(300, 1200, 1000)\n",
    "\n",
    "for i in range(len(roman_rubin.data[\"redshift\"])):\n",
    "    params = roman_rubin.get_spectrum_params(i)\n",
    "    spec = diffsky.get_spectrum(*params)\n",
    "\n",
    "    axs.plot(wl, spec(wl))\n",
    "\n",
    "plt.show()"
   ]
  },
  {
   "cell_type": "code",
   "execution_count": null,
   "id": "6d57b8f6-a340-444f-97f0-41b62df033f1",
   "metadata": {},
   "outputs": [],
   "source": [
    "fig, axs = plt.subplot_mosaic(\n",
    "    [\n",
    "        [\"g\", \"r\", \"i\"],\n",
    "        [\"sed\", \"sed\", \"sed\"]\n",
    "    ],\n",
    "    constrained_layout=True,\n",
    ")\n",
    "\n",
    "axs[\"sed\"].set_yscale(\"log\")\n",
    "axs[\"sed\"].set_xlabel(\"$\\lambda$ [$nm$]\")\n",
    "axs[\"sed\"].set_ylabel(\"$f_{photons}$ [$photons/nm/cm^2/s$]\")\n",
    "\n",
    "axs[\"g\"].set_title(\"g\")\n",
    "axs[\"r\"].set_title(\"r\")\n",
    "axs[\"i\"].set_title(\"i\")\n",
    "\n",
    "fig.suptitle(\"Diffsky Galaxy\")\n",
    "\n",
    "wl = np.linspace(300, 1200, 1000)\n",
    "\n",
    "i = -1\n",
    "\n",
    "params = roman_rubin.get_params(i)\n",
    "galaxy = diffsky.get_galaxy(*params)\n",
    "\n",
    "base_psf = galsim.Gaussian(fwhm=0.7)\n",
    "psf = galsim.ChromaticAtmosphere(\n",
    "    base_psf,\n",
    "    700,\n",
    "    alpha=-0.3,\n",
    "    zenith_angle=45 * galsim.degrees,\n",
    "    parallactic_angle=0 * galsim.degrees,\n",
    ")\n",
    "\n",
    "observed = galsim.Convolve([psf, galaxy])\n",
    "g_image = observed.drawImage(nx=53, ny=53, scale=0.2, bandpass=galsim.Bandpass(\"LSST_g.dat\", \"nm\"))\n",
    "r_image = observed.drawImage(nx=53, ny=53, scale=0.2, bandpass=galsim.Bandpass(\"LSST_r.dat\", \"nm\"))\n",
    "i_image = observed.drawImage(nx=53, ny=53, scale=0.2, bandpass=galsim.Bandpass(\"LSST_i.dat\", \"nm\"))\n",
    "\n",
    "norm = mpl.colors.Normalize()\n",
    "\n",
    "axs[\"sed\"].plot(wl, galaxy.sed(wl))\n",
    "axs[\"g\"].imshow(g_image.array, norm=norm, origin=\"lower\")\n",
    "axs[\"r\"].imshow(r_image.array, norm=norm, origin=\"lower\")\n",
    "axs[\"i\"].imshow(i_image.array, norm=norm, origin=\"lower\")\n",
    "\n",
    "plt.show()\n"
   ]
  },
  {
   "cell_type": "code",
   "execution_count": null,
   "id": "414a3ecf-3081-4946-a1f5-03f3c3a69b3b",
   "metadata": {},
   "outputs": [],
   "source": []
  }
 ],
 "metadata": {
  "kernelspec": {
   "display_name": "Python 3 (ipykernel)",
   "language": "python",
   "name": "python3"
  },
  "language_info": {
   "codemirror_mode": {
    "name": "ipython",
    "version": 3
   },
   "file_extension": ".py",
   "mimetype": "text/x-python",
   "name": "python",
   "nbconvert_exporter": "python",
   "pygments_lexer": "ipython3",
   "version": "3.11.9"
  }
 },
 "nbformat": 4,
 "nbformat_minor": 5
}
