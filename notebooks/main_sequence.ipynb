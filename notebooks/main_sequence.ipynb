{
 "cells": [
  {
   "cell_type": "code",
   "execution_count": null,
   "id": "7b429375-dfcd-418c-850d-25c605e8781d",
   "metadata": {},
   "outputs": [],
   "source": [
    "import logging"
   ]
  },
  {
   "cell_type": "code",
   "execution_count": null,
   "id": "a70be3c0-069b-4010-9c07-dfd715df2772",
   "metadata": {},
   "outputs": [],
   "source": [
    "logging.basicConfig(level=logging.INFO)"
   ]
  },
  {
   "cell_type": "code",
   "execution_count": null,
   "id": "2375278b-33e1-4843-9f60-5ade9cf02898",
   "metadata": {},
   "outputs": [],
   "source": [
    "import matplotlib.pyplot as plt"
   ]
  },
  {
   "cell_type": "code",
   "execution_count": null,
   "id": "100e9c4f-779d-4425-a14d-3cba22086d86",
   "metadata": {},
   "outputs": [],
   "source": [
    "from chromatic_weak_lensing import MainSequence"
   ]
  },
  {
   "cell_type": "code",
   "execution_count": null,
   "id": "6b34c883-a330-4c89-b002-15a5a5be3567",
   "metadata": {},
   "outputs": [],
   "source": [
    "fig, axs = plt.subplots(1, 2, constrained_layout=True)\n",
    "\n",
    "axs[0].plot(MainSequence.logM, MainSequence.logL)\n",
    "axs[0].set_xlabel(\"solar mass [dex]\")\n",
    "axs[0].set_ylabel(\"solar luminosity [dex]\")\n",
    "\n",
    "axs[1].plot(MainSequence.logM, MainSequence.logR)\n",
    "axs[1].set_xlabel(\"solar mass [dex]\")\n",
    "axs[1].set_ylabel(\"solar radius [dex]\")\n",
    "\n",
    "plt.show()"
   ]
  },
  {
   "cell_type": "code",
   "execution_count": null,
   "id": "91c47270-cf04-4556-89e5-622e38da480a",
   "metadata": {},
   "outputs": [],
   "source": []
  }
 ],
 "metadata": {
  "kernelspec": {
   "display_name": "Python 3 (ipykernel)",
   "language": "python",
   "name": "python3"
  },
  "language_info": {
   "codemirror_mode": {
    "name": "ipython",
    "version": 3
   },
   "file_extension": ".py",
   "mimetype": "text/x-python",
   "name": "python",
   "nbconvert_exporter": "python",
   "pygments_lexer": "ipython3",
   "version": "3.11.9"
  }
 },
 "nbformat": 4,
 "nbformat_minor": 5
}
