{
 "cells": [
  {
   "cell_type": "code",
   "execution_count": null,
   "id": "b91c6a87-1496-40d8-ad43-4f6dcb66bb44",
   "metadata": {},
   "outputs": [],
   "source": [
    "import logging"
   ]
  },
  {
   "cell_type": "code",
   "execution_count": null,
   "id": "b18e1a9e-9e37-45c5-9b62-b2b842e3ab9e",
   "metadata": {},
   "outputs": [],
   "source": [
    "logging.basicConfig(level=logging.INFO)"
   ]
  },
  {
   "cell_type": "code",
   "execution_count": null,
   "id": "19b261e8-21e1-4da4-8bfc-2ab74231343f",
   "metadata": {},
   "outputs": [],
   "source": [
    "import matplotlib.pyplot as plt\n",
    "import numpy as np"
   ]
  },
  {
   "cell_type": "code",
   "execution_count": null,
   "id": "44ff9c63-21bb-4ad9-854e-d270bf985bb0",
   "metadata": {},
   "outputs": [],
   "source": [
    "from chromatic_weak_lensing import MainSequence\n",
    "from chromatic_weak_lensing.fsps import FSPS"
   ]
  },
  {
   "cell_type": "code",
   "execution_count": null,
   "id": "49495e0d-6862-48d6-af7d-4bf4a0e846dc",
   "metadata": {},
   "outputs": [],
   "source": [
    "fsps = FSPS()"
   ]
  },
  {
   "cell_type": "code",
   "execution_count": null,
   "id": "739084ef-adc5-43ec-983a-5ce430788d2c",
   "metadata": {},
   "outputs": [],
   "source": [
    "fig, axs = plt.subplots(1, 1)\n",
    "\n",
    "axs.set_xlabel(\"$\\lambda$ [$nm$]\")\n",
    "axs.set_ylabel(\"$f_{photons}$ [$photons/nm/cm^2/s$]\")\n",
    "axs.set_title(\"FSPS Stellar Spectra\")\n",
    "\n",
    "n_spec = 10\n",
    "masses = np.linspace(0.2, 2.0, n_spec)\n",
    "\n",
    "wl = np.linspace(300, 1200, 1000)\n",
    "\n",
    "for mass in masses:\n",
    "    sparams = MainSequence.get_params(mass)\n",
    "    params = fsps.get_params(sparams)\n",
    "    spec = fsps.get_spectrum(*params)\n",
    "\n",
    "    axs.plot(wl, spec(wl))\n",
    "\n",
    "plt.show()"
   ]
  },
  {
   "cell_type": "code",
   "execution_count": null,
   "id": "3e124d6d-708c-4697-aa81-64d88ec9a936",
   "metadata": {},
   "outputs": [],
   "source": []
  }
 ],
 "metadata": {
  "kernelspec": {
   "display_name": "Python 3 (ipykernel)",
   "language": "python",
   "name": "python3"
  },
  "language_info": {
   "codemirror_mode": {
    "name": "ipython",
    "version": 3
   },
   "file_extension": ".py",
   "mimetype": "text/x-python",
   "name": "python",
   "nbconvert_exporter": "python",
   "pygments_lexer": "ipython3",
   "version": "3.11.9"
  }
 },
 "nbformat": 4,
 "nbformat_minor": 5
}
