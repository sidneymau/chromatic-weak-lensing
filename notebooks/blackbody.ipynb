{
 "cells": [
  {
   "cell_type": "code",
   "execution_count": null,
   "id": "19b261e8-21e1-4da4-8bfc-2ab74231343f",
   "metadata": {},
   "outputs": [],
   "source": [
    "import matplotlib.pyplot as plt\n",
    "import numpy as np"
   ]
  },
  {
   "cell_type": "code",
   "execution_count": null,
   "id": "44ff9c63-21bb-4ad9-854e-d270bf985bb0",
   "metadata": {},
   "outputs": [],
   "source": [
    "from chromatic_weak_lensing.main_sequence import MainSequence\n",
    "from chromatic_weak_lensing.blackbody import Blackbody"
   ]
  },
  {
   "cell_type": "code",
   "execution_count": null,
   "id": "49495e0d-6862-48d6-af7d-4bf4a0e846dc",
   "metadata": {},
   "outputs": [],
   "source": [
    "blackbody = Blackbody()"
   ]
  },
  {
   "cell_type": "code",
   "execution_count": null,
   "id": "d1bd8425-3437-49fe-a7ea-9e2eaf95b191",
   "metadata": {},
   "outputs": [],
   "source": [
    "fig, axs = plt.subplots(1, 1)\n",
    "\n",
    "axs.set_xlabel(\"$\\lambda$ [$nm$]\")\n",
    "axs.set_ylabel(\"$f_{photons}$ [$photons/nm/cm^2/s$]\")\n",
    "axs.set_title(\"Blackbody Stellar Spectra\")\n",
    "\n",
    "n_spec = 10\n",
    "masses = np.linspace(\n",
    "    0.2,\n",
    "    2.,\n",
    "    n_spec,\n",
    ")\n",
    "\n",
    "wl = np.linspace(300, 1200, 1000)\n",
    "\n",
    "for mass in masses:\n",
    "    sparams = MainSequence.get_params(mass)\n",
    "\n",
    "    params = blackbody.get_params(sparams)\n",
    "    spec = blackbody.get_spectrum(*params)\n",
    "\n",
    "\n",
    "    axs.plot(wl, spec(wl))\n",
    "\n",
    "\n",
    "plt.show()"
   ]
  },
  {
   "cell_type": "code",
   "execution_count": null,
   "id": "6e989bd0-da38-4729-9d60-d9d1196efb0c",
   "metadata": {},
   "outputs": [],
   "source": []
  }
 ],
 "metadata": {
  "kernelspec": {
   "display_name": "Python 3 (ipykernel)",
   "language": "python",
   "name": "python3"
  },
  "language_info": {
   "codemirror_mode": {
    "name": "ipython",
    "version": 3
   },
   "file_extension": ".py",
   "mimetype": "text/x-python",
   "name": "python",
   "nbconvert_exporter": "python",
   "pygments_lexer": "ipython3",
   "version": "3.11.9"
  }
 },
 "nbformat": 4,
 "nbformat_minor": 5
}
